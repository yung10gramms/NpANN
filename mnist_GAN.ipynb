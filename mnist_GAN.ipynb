{
 "cells": [
  {
   "cell_type": "code",
   "execution_count": 1,
   "metadata": {},
   "outputs": [
    {
     "name": "stderr",
     "output_type": "stream",
     "text": [
      "2024-12-14 13:08:33.682667: I external/local_tsl/tsl/cuda/cudart_stub.cc:31] Could not find cuda drivers on your machine, GPU will not be used.\n",
      "2024-12-14 13:08:34.423709: E external/local_xla/xla/stream_executor/cuda/cuda_dnn.cc:9261] Unable to register cuDNN factory: Attempting to register factory for plugin cuDNN when one has already been registered\n",
      "2024-12-14 13:08:34.423857: E external/local_xla/xla/stream_executor/cuda/cuda_fft.cc:607] Unable to register cuFFT factory: Attempting to register factory for plugin cuFFT when one has already been registered\n",
      "2024-12-14 13:08:34.576535: E external/local_xla/xla/stream_executor/cuda/cuda_blas.cc:1515] Unable to register cuBLAS factory: Attempting to register factory for plugin cuBLAS when one has already been registered\n",
      "2024-12-14 13:08:34.861917: I external/local_tsl/tsl/cuda/cudart_stub.cc:31] Could not find cuda drivers on your machine, GPU will not be used.\n",
      "2024-12-14 13:08:34.866617: I tensorflow/core/platform/cpu_feature_guard.cc:182] This TensorFlow binary is optimized to use available CPU instructions in performance-critical operations.\n",
      "To enable the following instructions: AVX2 FMA, in other operations, rebuild TensorFlow with the appropriate compiler flags.\n",
      "2024-12-14 13:08:37.580420: W tensorflow/compiler/tf2tensorrt/utils/py_utils.cc:38] TF-TRT Warning: Could not find TensorRT\n",
      "/usr/lib/python3/dist-packages/scipy/__init__.py:146: UserWarning: A NumPy version >=1.17.3 and <1.25.0 is required for this version of SciPy (detected version 1.26.3\n",
      "  warnings.warn(f\"A NumPy version >={np_minversion} and <{np_maxversion}\"\n"
     ]
    }
   ],
   "source": [
    "from keras.datasets import mnist\n",
    "\n",
    "import numpy as np\n",
    "\n",
    "import module\n",
    "import optimizer \n",
    "import loss \n",
    "import datahandler\n",
    "\n",
    "\n",
    "from matplotlib import pyplot as plt\n",
    "import numpy as np\n",
    "from numpy import shape\n",
    "\n",
    "from tqdm import tqdm\n"
   ]
  },
  {
   "cell_type": "code",
   "execution_count": 2,
   "metadata": {},
   "outputs": [],
   "source": [
    "\n",
    "def prepocess_data(x_train, y_train, x_test, y_test, training_size, test_size):\n",
    "    x_train = x_train.reshape(x_train.shape[0], 28 * 28, 1)\n",
    "    x_test = x_test.reshape(x_test.shape[0], 28 * 28, 1)\n",
    "\n",
    "    x_train = x_train.T\n",
    "    x_test = x_test.T\n",
    "\n",
    "    x_train = x_train[:, :, 0:training_size]\n",
    "    x_test = x_test[:, :, 0:test_size]\n",
    "\n",
    "    x_train = x_train[0, :, 0:training_size]\n",
    "    x_test = x_test[0, :, 0:test_size]\n",
    "\n",
    "    #  y = np_utils.to_categorical(y)\n",
    "    # y = y.reshape(y.shape[0], 10, 1)\n",
    "    \n",
    "\n",
    "\n",
    "\n",
    "    y_test = y_test[:test_size]\n",
    "    y_train = y_train[:training_size]\n",
    "   \n",
    "    # a = np.linspace(0, 10, 1)\n",
    "    # A = np.outer(np.ones(training_size), a)\n",
    "    # Y_train = np.outer(y_train, np.ones(10))\n",
    "    # equindeces = (Y_train == A).astype(int)\n",
    "    # Y_train = A.T @ equindeces\n",
    "    \n",
    "    \n",
    "    y_tr = np.zeros((10, training_size))\n",
    "    y_ts = np.zeros((10, test_size))\n",
    "    \n",
    "    y_tr[0, :] = y_train\n",
    "    y_ts[0, :] = y_test\n",
    "\n",
    "    y_test = y_ts\n",
    "    y_train = y_tr\n",
    "    for i in range(training_size):\n",
    "        n_tmp = int(y_train[0, i])\n",
    "\n",
    "        \n",
    "        y_train[:, i] = np.zeros(10)\n",
    "        y_train[n_tmp, i] = 1\n",
    "    print(y_train)\n",
    "\n",
    "    for i in range(test_size):\n",
    "        n_tmp = int(y_test[0, i])\n",
    "\n",
    "        y_test[:, i] = np.zeros(10)\n",
    "        y_test[n_tmp, i] = 1\n",
    "    # print(y_test)\n",
    "\n",
    "\n",
    "    x_test, y_test = reshuffle(x_test, y_test)\n",
    "    x_train, y_train = reshuffle(x_train, y_train)\n",
    "\n",
    "    return (x_train, y_train, x_test, y_test)\n",
    "\n",
    "\n",
    "def reshuffle(X, Y):\n",
    "    NData = len(X[0, :])\n",
    "    perm_indices = np.arange(NData)\n",
    "    np.random.shuffle(perm_indices)\n",
    "    X = X[:, perm_indices]\n",
    "    Y = Y[:, perm_indices]\n",
    "    return X, Y\n",
    "\n",
    "def flatten_input(x):\n",
    "    x = x.reshape(x.shape[0], 28 * 28, 1)\n",
    "    \"\"\"\n",
    "    TODO figure this out\n",
    "    \"\"\"\n",
    "\n",
    "    x = x.astype(\"float32\") / 255\n",
    "    return x\n",
    "\n"
   ]
  },
  {
   "cell_type": "code",
   "execution_count": 3,
   "metadata": {},
   "outputs": [
    {
     "name": "stdout",
     "output_type": "stream",
     "text": [
      "[[0. 1. 0. ... 0. 0. 1.]\n",
      " [0. 0. 0. ... 0. 0. 0.]\n",
      " [0. 0. 0. ... 0. 1. 0.]\n",
      " ...\n",
      " [0. 0. 0. ... 0. 0. 0.]\n",
      " [0. 0. 0. ... 0. 0. 0.]\n",
      " [0. 0. 0. ... 0. 0. 0.]]\n",
      "(784, 100)\n",
      "(784, 2000)\n",
      "(10, 100)\n",
      "(10, 2000)\n"
     ]
    }
   ],
   "source": [
    "\n",
    "# load MNIST using Keras\n",
    "# Select 1000 training samples and 20 test samples and appropriate preprocess them\n",
    "training_size = 2000\n",
    "test_size = 100\n",
    "(x_train, y_train), (x_test, y_test) = mnist.load_data()\n",
    "\n",
    "\n",
    "# x_train = flatten_input(x_train)\n",
    "# x_test = flatten_input(x_test)\n",
    "\n",
    "# x_train = prepocess_data(x_train, y_train, training_size)\n",
    "# x_test = prepocess_data(x_test, y_test, test_size)\n",
    "\n",
    "\n",
    "inDimension = 28*28\n",
    "\n",
    "(x_train, y_train, x_test, y_test) = prepocess_data(x_train, y_train, x_test, y_test, training_size, test_size)\n",
    "\n",
    "print(np.shape(x_test))\n",
    "print(np.shape(x_train))\n",
    "print(np.shape(y_test))\n",
    "print(np.shape(y_train))\n"
   ]
  },
  {
   "cell_type": "code",
   "execution_count": 4,
   "metadata": {},
   "outputs": [],
   "source": [
    "from loss import LossFunction\n",
    "\n",
    "class GenLoss(LossFunction):\n",
    "\n",
    "    def __init__(self):\n",
    "        self.gradOut = None\n",
    "        self.valOut = None \n",
    "\n",
    "    def __call__(self, x, y):\n",
    "        assert self.valOut is not None, 'Error: Value is not initialized'\n",
    "        return self.valOut\n",
    "\n",
    "    def gradient(self, x, y):\n",
    "        assert self.gradOut is not None, 'Error: Gradient is not initialized'\n",
    "        return self.gradOut\n",
    "        "
   ]
  },
  {
   "cell_type": "code",
   "execution_count": 5,
   "metadata": {},
   "outputs": [
    {
     "name": "stdout",
     "output_type": "stream",
     "text": [
      " A = [[1. 1. 1. 1. 1. 1. 1. 1. 1. 1.]\n",
      " [1. 1. 1. 1. 1. 1. 1. 1. 1. 1.]]\n",
      "B=[[0. 0. 0. 0. 0. 0. 0. 0. 0. 0. 0.]\n",
      " [0. 0. 0. 0. 0. 0. 0. 0. 0. 0. 0.]]\n",
      "C=\n",
      "[[1. 1. 0. 1. 1. 1. 0. 1. 0. 0. 0. 0. 1. 0. 1. 0. 1. 0. 1. 0. 0.]\n",
      " [1. 1. 0. 1. 1. 1. 0. 1. 0. 0. 0. 0. 1. 0. 1. 0. 1. 0. 1. 0. 0.]]\n",
      "indices=[8, 4, 11, 1, 7, 5, 13, 6, 20, 16, 17, 15, 3, 10, 0, 12, 9, 14, 2, 18, 19]\n",
      "map = [14, 3, 18, 12, 1, 5, 7, 4, 0, 16, 13, 2, 15, 6, 17, 11, 9, 10, 19, 20, 8]\n"
     ]
    }
   ],
   "source": [
    "import random\n",
    "\n",
    "def randomMerge(A, B, shuffle = True):\n",
    "    '''\n",
    "    given two matrices A and B, merge them and shuffle the new matrix entries\n",
    "\n",
    "    returns \n",
    "    C              :                                       merged array\n",
    "    indices        :          merged indices describing the permutation\n",
    "    idx_map        :  at index i contains the position that i is stored\n",
    "    '''\n",
    "    assert len(A) == len(B), 'A and B must be of same length at dimension 0'\n",
    "    len_a = len(A[0])\n",
    "    len_b = len(B[0])\n",
    "    numData = len_a + len_b\n",
    "    C = np.zeros((len(A), numData))\n",
    "    for i in range(len(A[0])):\n",
    "        C[:, i] = A[:, i]\n",
    "    for i in range(len_a, numData):\n",
    "        C[:, i] = B[:, i-len_a]\n",
    "\n",
    "    indices = list(range(numData))\n",
    "    if not shuffle:\n",
    "        return C, indices, indices\n",
    "\n",
    "    random.shuffle(indices)\n",
    "    C = [C[:, idx] for idx in indices]\n",
    "    C = np.column_stack(C)\n",
    "    \n",
    "    idx_map = [None]*len(indices)\n",
    "    for i, idx in enumerate(indices):\n",
    "        idx_map[idx] = i\n",
    "\n",
    "    return C, indices, idx_maps\n",
    "\n",
    "A = np.ones((2, 10))\n",
    "B = np.zeros((2, 11))\n",
    "C, ids, idx_map = randomMerge(A, B)\n",
    "print(f' A = {A}\\nB={B}\\nC=\\n{C}\\nindices={ids}\\nmap = {idx_map}')"
   ]
  },
  {
   "cell_type": "code",
   "execution_count": 6,
   "metadata": {},
   "outputs": [
    {
     "name": "stdout",
     "output_type": "stream",
     "text": [
      "Number of Layers: 5\n",
      "Total Parameters: 3571784 (3568000 weights and 3784 biases)\n",
      "Size on RAM (approximate) 27904.56 kb\n",
      "(784 None) x (1000 relu) x (1000 relu) x (1000 relu) x (784 relu)\n",
      "Weight dimensions: (1000, 784), (1000, 1000), (1000, 1000), (784, 1000)\n",
      "Warning: dynamic step option will ignore learning rate\n",
      "Number of Layers: 4\n",
      "Total Parameters: 88802 (88600 weights and 202 biases)\n",
      "Size on RAM (approximate) 693.77 kb\n",
      "(784 None) x (100 relu) x (100 relu) x (2 softmax)\n",
      "Weight dimensions: (100, 784), (100, 100), (2, 100)\n",
      "Warning: dynamic step option will ignore learning rate\n"
     ]
    },
    {
     "name": "stderr",
     "output_type": "stream",
     "text": [
      "Processing:: 100%|██████████| 30/30 [2:57:04<00:00, 354.17s/it]  \n"
     ]
    }
   ],
   "source": [
    "\n",
    "import module\n",
    "import optimizer \n",
    "import loss \n",
    "import datahandler\n",
    "\n",
    "\n",
    "#\n",
    "#  generator ====================================================================\n",
    "generator = module.Module()\n",
    "generator.appendLayer(inDimension)\n",
    "\n",
    "for i in range(3):\n",
    "    generator.appendLayer(1000)\n",
    "\n",
    "generator.appendLayer(inDimension)\n",
    "\n",
    "generator.printShape()\n",
    "\n",
    "# nn.setLossFunction(loss.L2Loss)\n",
    "generator.setLossFunction(GenLoss)\n",
    "\n",
    "\n",
    "# opt = optimizer.SGD(nn, learning_rate=0.1, dynamic_step=True)\n",
    "gen_opt = optimizer.SGD(generator, learning_rate=0.1, dynamic_step=True, weight_normalization=True)\n",
    "\n",
    "# dicriminator =================================================================\n",
    "\n",
    "discriminator = module.Module()\n",
    "discriminator.appendLayer(inDimension)\n",
    "\n",
    "for i in range(2):\n",
    "    discriminator.appendLayer(100)\n",
    "\n",
    "discriminator.appendLayer(2, activation='softmax')\n",
    "discriminator.printShape()\n",
    "discriminator.setLossFunction(loss.CrossEntropyLoss)\n",
    "\n",
    "\n",
    "dis_opt = optimizer.SGD(discriminator, learning_rate=0.1, dynamic_step=True, weight_normalization=True)\n",
    "\n",
    "\n",
    "# opt = optimizer.SGD(nn, learning_rate=0.1)\n",
    "\n",
    "loss_vector_sgd_gen = []\n",
    "loss_vector_sgd_dis = []\n",
    "\n",
    "wnorm_sgd = []\n",
    "\n",
    "# N = 100\n",
    "batch_size = 50\n",
    "dataHandler = datahandler.DataHandler(x_train, y_train, batch_size=batch_size)\n",
    "\n",
    "\n",
    "get_noise = lambda mu, sigma, dimension, N : np.random.randn(dimension, N)*sigma + mu\n",
    "\n",
    "\n",
    "# no_epochs = 10\n",
    "no_epochs = 30\n",
    "for j in tqdm(range(no_epochs), desc=f\"Processing:\"):\n",
    "    \n",
    "    dataHandler.reset()\n",
    "    epoch_loss_gen = []\n",
    "    epoch_loss_dis = []\n",
    "    while dataHandler.hasNext():\n",
    "        \n",
    "        ################# take next batch from train set\n",
    "        \n",
    "        (batchX, batchY) = dataHandler.nextBatch()\n",
    "        \n",
    "        # almost always equal to the real batch_size, except for the last batch\n",
    "        batchSizeTrue = len(batchX[0]) \n",
    "        batchY = np.zeros((2, batchSizeTrue))\n",
    "        for i in range(batchSizeTrue):\n",
    "            batchY[1,i] = 1\n",
    "        # print(np.shape(batchY))\n",
    "\n",
    "        batchY_fake = np.zeros((2, batchSizeTrue))\n",
    "        for i in range(batchSizeTrue):\n",
    "            batchY_fake[0, i] = 1\n",
    "        \n",
    "        \"\"\"\n",
    "        pass the batch of noise along with the label 1 into the generator\n",
    "        \"\"\"\n",
    "        generator(get_noise(0, 1, inDimension, batchSizeTrue), batchY_fake)\n",
    "\n",
    "        generator.forward()\n",
    "\n",
    "        # take the generator's output and shuffle it with the actual ones\n",
    "        batchX_fake = generator.output\n",
    "        mixedBatchX, mixed_idcs, idx_map = randomMerge(batchX, batchX_fake, shuffle = True)\n",
    "        mixedBatchX = np.array(mixedBatchX)\n",
    "        # print(f'mixed batch X {np.shape(mixedBatchX)}')\n",
    "\n",
    "        # having kept the permutation indices, merge the labels accordingly\n",
    "        mixedBatchY, _, _ = randomMerge(batchY, batchY_fake, shuffle = False)\n",
    "        mixedBatchY = np.array([mixedBatchY[:, idx] for idx in mixed_idcs]).T\n",
    "        # print(f'mixed batch Y {np.shape(mixedBatchY)}')\n",
    "\n",
    "        # time to pass the augmented batch into the discriminator\n",
    "        discriminator(mixedBatchX, mixedBatchY)\n",
    "        discriminator.forward()\n",
    "\n",
    "        # print(f'output of discriminator {np.shape(discriminator.output)}')\n",
    "        # pray for the best\n",
    "        discriminator.calc_loss()\n",
    "        discriminator.backward()\n",
    "        dis_opt.step()\n",
    "\n",
    "        ########################### backpropagate generator but only wrt to their respective output\n",
    "        discr_output_fake = np.array([discriminator.output[:, idx_map[ii]] for ii in range(batchSizeTrue)])\n",
    "        discr_loss_fake = np.array([discriminator.loss_function(discriminator.output[:, jj], discriminator.yhat[:, jj]) for jj in range(batchSizeTrue)])\n",
    "        # assuming that number of real data = number of fake data\n",
    "        discr_loss_real = np.array([discriminator.loss_function(discriminator.output[:, jj], discriminator.yhat[:, jj]) for jj in range(batchSizeTrue, 2*batchSizeTrue, 1)])\n",
    "        \n",
    "        # discr_loss_fake = np.array([discriminator.loss[idx_map[i]] for i in range(batchSizeTrue)])\n",
    "        \n",
    "        # print(f'shape of W^0 {np.shape(discriminator.propagated_gradients[0])}')\n",
    "        discr_grads_fake = np.array([discriminator.propagated_gradients[0][ :, idx_map[i]] for i in range(batchSizeTrue)])\n",
    "\n",
    "        \n",
    "        generator.loss_instance.valOut = -discr_loss_fake.T - discr_loss_real.T\n",
    "        generator.loss_instance.gradOut = -discr_grads_fake.T\n",
    "        \n",
    "        # print(f'gen loss {np.shape(generator.loss_instance.valOut)}')\n",
    "\n",
    "        generator.backward()\n",
    "        gen_opt.step()\n",
    "\n",
    "        \n",
    "\n",
    "        epoch_loss_gen.append(np.average(generator.loss))\n",
    "        epoch_loss_dis.append(np.average(discriminator.loss))\n",
    "        \n",
    "    # print(f'epoch loss {np.shape(np.array(epoch_loss_gen))}')\n",
    "    # print(f'and the avg is {np.shape(np.average(np.array(epoch_loss_gen)))}')\n",
    "    loss_vector_sgd_gen.append(np.average(epoch_loss_gen))\n",
    "    loss_vector_sgd_dis.append(np.average(epoch_loss_dis))"
   ]
  },
  {
   "cell_type": "markdown",
   "metadata": {},
   "source": [
    "## print training plots"
   ]
  },
  {
   "cell_type": "code",
   "execution_count": 16,
   "metadata": {},
   "outputs": [
    {
     "data": {
      "image/png": "[encoded data removed]",
      "text/plain": [
       "<Figure size 640x480 with 1 Axes>"
      ]
     },
     "metadata": {},
     "output_type": "display_data"
    }
   ],
   "source": [
    "\n",
    "from matplotlib import pyplot as plt\n",
    "\n",
    "plt.plot(loss_vector_sgd_gen, '-')\n",
    "plt.plot(loss_vector_sgd_dis, '-')\n",
    "plt.title('Loss Vector (Semilog Scale)')\n",
    "plt.xlabel('Epoch')\n",
    "plt.ylabel('Loss (log scale)')\n",
    "plt.show()"
   ]
  },
  {
   "cell_type": "code",
   "execution_count": 8,
   "metadata": {},
   "outputs": [
    {
     "data": {
      "text/plain": [
       "<matplotlib.image.AxesImage at 0x701b02981cf0>"
      ]
     },
     "execution_count": 8,
     "metadata": {},
     "output_type": "execute_result"
    },
    {
     "data": {
      "image/png": "[encoded data removed]",
      "text/plain": [
       "<Figure size 640x480 with 1 Axes>"
      ]
     },
     "metadata": {},
     "output_type": "display_data"
    }
   ],
   "source": [
    "first_image = np.array(generator.output[:,0], dtype='float')\n",
    "pixels = first_image.reshape((28, 28))\n",
    "plt.imshow(pixels, cmap='gray')"
   ]
  },
  {
   "cell_type": "code",
   "execution_count": 14,
   "metadata": {},
   "outputs": [
    {
     "data": {
      "text/plain": [
       "<matplotlib.image.AxesImage at 0x701affe56110>"
      ]
     },
     "execution_count": 14,
     "metadata": {},
     "output_type": "execute_result"
    },
    {
     "data": {
      "image/png": "[encoded data removed]",
      "text/plain": [
       "<Figure size 640x480 with 1 Axes>"
      ]
     },
     "metadata": {},
     "output_type": "display_data"
    }
   ],
   "source": [
    "first_image = np.array(x_train[:, 0], dtype='float')\n",
    "pixels = first_image.reshape((28, 28))\n",
    "plt.imshow(pixels, cmap='gray')"
   ]
  },
  {
   "cell_type": "markdown",
   "metadata": {},
   "source": []
  }
 ],
 "metadata": {
  "kernelspec": {
   "display_name": "Python 3",
   "language": "python",
   "name": "python3"
  },
  "language_info": {
   "codemirror_mode": {
    "name": "ipython",
    "version": 3
   },
   "file_extension": ".py",
   "mimetype": "text/x-python",
   "name": "python",
   "nbconvert_exporter": "python",
   "pygments_lexer": "ipython3",
   "version": "3.10.12"
  }
 },
 "nbformat": 4,
 "nbformat_minor": 2
}
