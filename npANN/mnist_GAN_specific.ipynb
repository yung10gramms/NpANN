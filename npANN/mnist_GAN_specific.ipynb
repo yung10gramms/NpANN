{
 "cells": [
  {
   "cell_type": "markdown",
   "metadata": {},
   "source": [
    "# Imports"
   ]
  },
  {
   "cell_type": "code",
   "execution_count": 1,
   "metadata": {},
   "outputs": [
    {
     "name": "stderr",
     "output_type": "stream",
     "text": [
      "2025-01-09 11:07:35.430594: I external/local_xla/xla/tsl/cuda/cudart_stub.cc:32] Could not find cuda drivers on your machine, GPU will not be used.\n",
      "2025-01-09 11:07:35.436963: I external/local_xla/xla/tsl/cuda/cudart_stub.cc:32] Could not find cuda drivers on your machine, GPU will not be used.\n",
      "2025-01-09 11:07:35.454118: E external/local_xla/xla/stream_executor/cuda/cuda_fft.cc:477] Unable to register cuFFT factory: Attempting to register factory for plugin cuFFT when one has already been registered\n",
      "WARNING: All log messages before absl::InitializeLog() is called are written to STDERR\n",
      "E0000 00:00:1736413655.478987    7013 cuda_dnn.cc:8310] Unable to register cuDNN factory: Attempting to register factory for plugin cuDNN when one has already been registered\n",
      "E0000 00:00:1736413655.486651    7013 cuda_blas.cc:1418] Unable to register cuBLAS factory: Attempting to register factory for plugin cuBLAS when one has already been registered\n",
      "2025-01-09 11:07:35.511135: I tensorflow/core/platform/cpu_feature_guard.cc:210] This TensorFlow binary is optimized to use available CPU instructions in performance-critical operations.\n",
      "To enable the following instructions: AVX2 FMA, in other operations, rebuild TensorFlow with the appropriate compiler flags.\n"
     ]
    }
   ],
   "source": [
    "from tensorflow.keras.datasets import mnist\n",
    "\n",
    "import numpy as np\n",
    "from numpy import shape\n",
    "\n",
    "from matplotlib import pyplot as plt\n",
    "\n",
    "import module as module\n",
    "import optimizer as optimizer \n",
    "import datahandler as datahandler\n",
    "\n",
    "import loss \n",
    "\n",
    "\n",
    "from tqdm import tqdm"
   ]
  },
  {
   "cell_type": "markdown",
   "metadata": {},
   "source": [
    "# Function for preprocessing data"
   ]
  },
  {
   "cell_type": "code",
   "execution_count": 3,
   "metadata": {},
   "outputs": [],
   "source": [
    "from shuffleBatch import *\n",
    "\n",
    "def prepocess_data(x_train, y_train, x_test, y_test, training_size, test_size):\n",
    "    x_train = x_train.reshape(x_train.shape[0], 28 * 28, 1)\n",
    "    x_test = x_test.reshape(x_test.shape[0], 28 * 28, 1)\n",
    "\n",
    "    x_train = x_train.T\n",
    "    x_test = x_test.T\n",
    "\n",
    "    # filter only a specific number from train\n",
    "    target_num = 7\n",
    "    i = 0\n",
    "    count = 0\n",
    "    indeces_train = [None]*training_size\n",
    "    while count < training_size:\n",
    "        if y_train[i] != target_num:\n",
    "            i += 1\n",
    "            continue\n",
    "        indeces_train[count] = i\n",
    "        i += 1\n",
    "        count += 1\n",
    "\n",
    "    # filter only a specific number from test\n",
    "    i = 0\n",
    "    count = 0\n",
    "    indeces_test = [None]*test_size\n",
    "    while count < test_size:\n",
    "        if y_train[i] != target_num:\n",
    "            i += 1\n",
    "            continue\n",
    "        indeces_test[count] = i\n",
    "        i += 1\n",
    "        count += 1\n",
    "\n",
    "    x_train = np.array([x_train[:, :, i] for i in indeces_train])\n",
    "    x_test = np.array([x_test[:, :, i] for i in indeces_test])\n",
    "    \n",
    "    x_train = np.squeeze(x_train).T\n",
    "    x_test = np.squeeze(x_test).T\n",
    "\n",
    "\n",
    "    y_test = [y_test[i] for i in indeces_test]\n",
    "    y_train = [y_train[i] for i in indeces_train]\n",
    "   \n",
    "    y_tr = np.zeros((10, training_size))\n",
    "    y_ts = np.zeros((10, test_size))\n",
    "    \n",
    "    y_tr[0, :] = y_train\n",
    "    y_ts[0, :] = y_test\n",
    "\n",
    "    y_test = y_ts\n",
    "    y_train = y_tr\n",
    "    for i in range(training_size):\n",
    "        n_tmp = int(y_train[0, i])\n",
    "\n",
    "        \n",
    "        y_train[:, i] = np.zeros(10)\n",
    "        y_train[n_tmp, i] = 1\n",
    "    # print(y_train)\n",
    "\n",
    "    for i in range(test_size):\n",
    "        n_tmp = int(y_test[0, i])\n",
    "\n",
    "        y_test[:, i] = np.zeros(10)\n",
    "        y_test[n_tmp, i] = 1\n",
    "    # print(y_test)\n",
    "\n",
    "\n",
    "    x_test, y_test = reshuffle(x_test, y_test)\n",
    "    x_train, y_train = reshuffle(x_train, y_train)\n",
    "\n",
    "    return (x_train, y_train, x_test, y_test)\n",
    "\n",
    "\n"
   ]
  },
  {
   "cell_type": "markdown",
   "metadata": {},
   "source": [
    "# Load and preprocess data "
   ]
  },
  {
   "cell_type": "code",
   "execution_count": 4,
   "metadata": {},
   "outputs": [
    {
     "name": "stdout",
     "output_type": "stream",
     "text": [
      "(784, 100)\n",
      "(784, 5000)\n",
      "(10, 100)\n",
      "(10, 5000)\n"
     ]
    }
   ],
   "source": [
    "# load MNIST using Keras\n",
    "training_size = 5000\n",
    "test_size = 100\n",
    "(x_train, y_train), (x_test, y_test) = mnist.load_data()\n",
    "\n",
    "inDimension = 28*28\n",
    "\n",
    "(x_train, y_train, x_test, y_test) = prepocess_data(x_train, y_train, x_test, y_test, training_size, test_size)\n",
    "\n",
    "print(np.shape(x_test))\n",
    "print(np.shape(x_train))\n",
    "print(np.shape(y_test))\n",
    "print(np.shape(y_train))"
   ]
  },
  {
   "cell_type": "markdown",
   "metadata": {},
   "source": [
    "# Set a custom Loss function for the generator"
   ]
  },
  {
   "cell_type": "code",
   "execution_count": 5,
   "metadata": {},
   "outputs": [],
   "source": [
    "from loss import LossFunction\n",
    "\n",
    "class GenLoss(LossFunction):\n",
    "\n",
    "    def __init__(self):\n",
    "        self.gradOut = None\n",
    "        self.valOut = None \n",
    "\n",
    "    def __call__(self, x, y):\n",
    "        assert self.valOut is not None, 'Error: Value is not initialized'\n",
    "        return self.valOut\n",
    "\n",
    "    def gradient(self, x, y):\n",
    "        assert self.gradOut is not None, 'Error: Gradient is not initialized'\n",
    "        return self.gradOut\n",
    "        "
   ]
  },
  {
   "cell_type": "markdown",
   "metadata": {},
   "source": [
    "# Define the random merge function \n",
    "Responsible for merging a batch from the real data with the fake (generator) data."
   ]
  },
  {
   "cell_type": "code",
   "execution_count": 6,
   "metadata": {},
   "outputs": [
    {
     "name": "stdout",
     "output_type": "stream",
     "text": [
      " A = [[1. 1. 1. 1. 1. 1. 1. 1. 1. 1.]\n",
      " [1. 1. 1. 1. 1. 1. 1. 1. 1. 1.]]\n",
      "B=[[0. 0. 0. 0. 0. 0. 0. 0. 0. 0. 0.]\n",
      " [0. 0. 0. 0. 0. 0. 0. 0. 0. 0. 0.]]\n",
      "C=\n",
      "[[1. 1. 0. 1. 0. 1. 1. 1. 1. 0. 0. 0. 0. 0. 0. 0. 0. 0. 1. 1. 1.]\n",
      " [1. 1. 0. 1. 0. 1. 1. 1. 1. 0. 0. 0. 0. 0. 0. 0. 0. 0. 1. 1. 1.]]\n",
      "indices=[2, 8, 18, 6, 13, 0, 3, 4, 5, 12, 20, 15, 10, 11, 17, 19, 16, 14, 1, 7, 9]\n",
      "map = [5, 18, 0, 6, 7, 8, 3, 19, 1, 20, 12, 13, 9, 4, 17, 11, 16, 14, 2, 15, 10]\n"
     ]
    }
   ],
   "source": [
    "import random\n",
    "\n",
    "def randomMerge(A, B, shuffle = True):\n",
    "    '''\n",
    "    given two matrices A and B, merge them and shuffle the new matrix entries\n",
    "\n",
    "    returns \n",
    "    C              :                                       merged array\n",
    "    indices        :          merged indices describing the permutation\n",
    "    idx_map        :  at index i contains the position that i is stored\n",
    "    '''\n",
    "    assert len(A) == len(B), 'A and B must be of same length at dimension 0'\n",
    "    len_a = len(A[0])\n",
    "    len_b = len(B[0])\n",
    "    numData = len_a + len_b\n",
    "    C = np.zeros((len(A), numData))\n",
    "    for i in range(len(A[0])):\n",
    "        C[:, i] = A[:, i]\n",
    "    for i in range(len_a, numData):\n",
    "        C[:, i] = B[:, i-len_a]\n",
    "\n",
    "    indices = list(range(numData))\n",
    "    if not shuffle:\n",
    "        return C, indices, indices\n",
    "\n",
    "    random.shuffle(indices)\n",
    "    C = [C[:, idx] for idx in indices]\n",
    "    C = np.column_stack(C)\n",
    "    \n",
    "    idx_map = [None]*len(indices)\n",
    "    for i, idx in enumerate(indices):\n",
    "        idx_map[idx] = i\n",
    "\n",
    "    return C, indices, idx_map\n",
    "\n",
    "A = np.ones((2, 10))\n",
    "B = np.zeros((2, 11))\n",
    "C, ids, idx_map = randomMerge(A, B)\n",
    "print(f' A = {A}\\nB={B}\\nC=\\n{C}\\nindices={ids}\\nmap = {idx_map}')"
   ]
  },
  {
   "cell_type": "markdown",
   "metadata": {},
   "source": [
    "# Training\n",
    "## Definition of the models"
   ]
  },
  {
   "cell_type": "code",
   "execution_count": 7,
   "metadata": {},
   "outputs": [
    {
     "name": "stdout",
     "output_type": "stream",
     "text": [
      "Number of Layers: 4\n",
      "Total Parameters: 468240 (466944 weights and 1296 biases)\n",
      "Size on RAM (approximate) 3.57 Mb\n",
      "(784 None) x (256 relu) x (256 relu) x (784 relu)\n",
      "Weight dimensions: (256, 784), (256, 256), (784, 256)\n",
      "Number of Layers: 4\n",
      "Total Parameters: 267266 (266752 weights and 514 biases)\n",
      "Size on RAM (approximate) 2.04 Mb\n",
      "(784 None) x (256 relu) x (256 relu) x (2 softmax)\n",
      "Weight dimensions: (256, 784), (256, 256), (2, 256)\n"
     ]
    }
   ],
   "source": [
    "\n",
    "import module as module\n",
    "import optimizer as optimizer \n",
    "import loss \n",
    "import datahandler as datahandler\n",
    "\n",
    "\n",
    "#\n",
    "#  generator ====================================================================\n",
    "generator = module.Module()\n",
    "generator.appendLayer(inDimension)\n",
    "\n",
    "for i in range(2):\n",
    "    generator.appendLayer(256)\n",
    "\n",
    "generator.appendLayer(inDimension)\n",
    "\n",
    "generator.printShape()\n",
    "\n",
    "# nn.setLossFunction(loss.L2Loss)\n",
    "generator.setLossFunction(GenLoss)\n",
    "\n",
    "\n",
    "# opt = optimizer.SGD(nn, learning_rate=0.1, dynamic_step=True)\n",
    "gen_opt = optimizer.SGD(generator, dynamic_step=True, weight_normalization=True)\n",
    "\n",
    "# dicriminator =================================================================\n",
    "\n",
    "discriminator = module.Module()\n",
    "discriminator.appendLayer(inDimension)\n",
    "\n",
    "for i in range(2):\n",
    "    discriminator.appendLayer(256)\n",
    "\n",
    "discriminator.appendLayer(2, activation='softmax')\n",
    "discriminator.printShape()\n",
    "discriminator.setLossFunction(loss.CrossEntropyLoss)\n",
    "\n",
    "\n",
    "dis_opt = optimizer.SGD(discriminator, dynamic_step=True, weight_normalization=True)\n",
    "\n",
    "\n",
    "loss_vector_sgd_gen = []\n",
    "loss_vector_sgd_dis = []\n",
    "\n",
    "wnorm_sgd = []\n",
    "\n",
    "# N = 100\n",
    "batch_size = 100\n",
    "dataHandler = datahandler.DataHandler(x_train, y_train, batch_size=batch_size)\n",
    "\n",
    "get_noise = lambda mu, sigma, dimension, N : np.random.randn(dimension, N)*sigma + mu\n"
   ]
  },
  {
   "cell_type": "markdown",
   "metadata": {},
   "source": [
    "## Actual training of the two models"
   ]
  },
  {
   "cell_type": "code",
   "execution_count": 9,
   "metadata": {},
   "outputs": [
    {
     "name": "stderr",
     "output_type": "stream",
     "text": [
      "Processing::   0%|          | 0/15 [00:00<?, ?it/s]"
     ]
    },
    {
     "name": "stderr",
     "output_type": "stream",
     "text": [
      "Processing:: 100%|██████████| 15/15 [58:46<00:00, 235.08s/it]\n"
     ]
    }
   ],
   "source": [
    "no_epochs = 15\n",
    "for j in tqdm(range(no_epochs), desc=f\"Processing:\"):\n",
    "    \n",
    "    dataHandler.reset()\n",
    "    epoch_loss_gen = []\n",
    "    epoch_loss_dis = []\n",
    "    while dataHandler.hasNext():\n",
    "        \n",
    "        ################# take next batch from train set\n",
    "        \n",
    "        (batchX, batchY) = dataHandler.nextBatch()\n",
    "        \n",
    "        # almost always equal to the real batch_size, except for the last batch\n",
    "        batchSizeTrue = len(batchX[0]) \n",
    "        batchY = np.zeros((2, batchSizeTrue))\n",
    "        for i in range(batchSizeTrue):\n",
    "            batchY[1,i] = 1\n",
    "        # print(np.shape(batchY))\n",
    "\n",
    "        batchY_fake = np.zeros((2, batchSizeTrue))\n",
    "        for i in range(batchSizeTrue):\n",
    "            batchY_fake[0, i] = 1\n",
    "        \n",
    "        \"\"\"\n",
    "        pass the batch of noise along with the label 1 into the generator\n",
    "        \"\"\"\n",
    "        generator(get_noise(0, 1, inDimension, batchSizeTrue), batchY_fake)\n",
    "\n",
    "        generator.forward()\n",
    "\n",
    "        # take the generator's output and shuffle it with the actual ones\n",
    "        batchX_fake = generator.output\n",
    "        mixedBatchX, mixed_idcs, idx_map = randomMerge(batchX, batchX_fake, shuffle = True)\n",
    "        mixedBatchX = np.array(mixedBatchX)\n",
    "        \n",
    "\n",
    "        # having kept the permutation indices, merge the labels accordingly\n",
    "        mixedBatchY, _, _ = randomMerge(batchY, batchY_fake, shuffle = False)\n",
    "        mixedBatchY = np.array([mixedBatchY[:, idx] for idx in mixed_idcs]).T\n",
    "        \n",
    "\n",
    "        # time to pass the augmented batch into the discriminator\n",
    "        discriminator(mixedBatchX, mixedBatchY)\n",
    "        discriminator.forward()\n",
    "\n",
    "        # pray for the best\n",
    "        discriminator.calc_loss()\n",
    "        discriminator.backward()\n",
    "        dis_opt.step()\n",
    "\n",
    "        ########################### backpropagate generator but only wrt to their respective output\n",
    "        discr_output_fake = np.array([discriminator.output[:, idx_map[ii]] for ii in range(batchSizeTrue)])\n",
    "        discr_loss_fake = np.array([discriminator.loss_function(discriminator.output[:, jj], discriminator.yhat[:, jj]) for jj in range(batchSizeTrue)])\n",
    "        # assuming that number of real data = number of fake data\n",
    "        discr_loss_real = np.array([discriminator.loss_function(discriminator.output[:, jj], discriminator.yhat[:, jj]) for jj in range(batchSizeTrue, 2*batchSizeTrue, 1)])\n",
    "        \n",
    "       \n",
    "        discr_grads_fake = np.array([discriminator.propagated_gradients[0][ :, idx_map[i]] for i in range(batchSizeTrue)])\n",
    "\n",
    "        \n",
    "        generator.loss_instance.valOut = -discr_loss_fake.T - discr_loss_real.T\n",
    "        generator.loss_instance.gradOut = -discr_grads_fake.T\n",
    "        \n",
    "        \n",
    "        generator.backward()\n",
    "        gen_opt.step()\n",
    "\n",
    "        epoch_loss_gen.append(np.average(generator.loss))\n",
    "        epoch_loss_dis.append(np.average(discriminator.loss))\n",
    "        \n",
    "    \n",
    "    loss_vector_sgd_gen.append(np.average(epoch_loss_gen))\n",
    "    loss_vector_sgd_dis.append(np.average(epoch_loss_dis))"
   ]
  },
  {
   "cell_type": "markdown",
   "metadata": {},
   "source": [
    "## print training plots"
   ]
  },
  {
   "cell_type": "code",
   "execution_count": 10,
   "metadata": {},
   "outputs": [
    {
     "data": {
      "image/png": "[encoded data removed]",
      "text/plain": [
       "<Figure size 640x480 with 1 Axes>"
      ]
     },
     "metadata": {},
     "output_type": "display_data"
    }
   ],
   "source": [
    "plt.semilogy(loss_vector_sgd_dis, '-')\n",
    "plt.title('Loss Vector (Semilog Scale)')\n",
    "plt.xlabel('Epoch')\n",
    "plt.ylabel('Loss (log scale)')\n",
    "plt.show()"
   ]
  },
  {
   "cell_type": "code",
   "execution_count": 11,
   "metadata": {},
   "outputs": [
    {
     "data": {
      "text/plain": [
       "<matplotlib.image.AxesImage at 0x77d2387f61e0>"
      ]
     },
     "execution_count": 11,
     "metadata": {},
     "output_type": "execute_result"
    },
    {
     "data": {
      "image/png": "[encoded data removed]",
      "text/plain": [
       "<Figure size 640x480 with 1 Axes>"
      ]
     },
     "metadata": {},
     "output_type": "display_data"
    }
   ],
   "source": [
    "first_image = np.array(generator.output[:,0], dtype='float')\n",
    "pixels = first_image.reshape((28, 28))\n",
    "plt.imshow(pixels, cmap='gray')\n"
   ]
  },
  {
   "cell_type": "code",
   "execution_count": 12,
   "metadata": {},
   "outputs": [
    {
     "data": {
      "text/plain": [
       "<matplotlib.image.AxesImage at 0x77d2b4608890>"
      ]
     },
     "execution_count": 12,
     "metadata": {},
     "output_type": "execute_result"
    },
    {
     "data": {
      "image/png": "[encoded data removed]",
      "text/plain": [
       "<Figure size 640x480 with 1 Axes>"
      ]
     },
     "metadata": {},
     "output_type": "display_data"
    }
   ],
   "source": [
    "first_image = np.array(x_train[:, 0], dtype='float')\n",
    "pixels = first_image.reshape((28, 28))\n",
    "plt.imshow(pixels, cmap='gray')"
   ]
  },
  {
   "cell_type": "markdown",
   "metadata": {},
   "source": [
    "# Evaluate GAN\n",
    "## Using True/False positives and True/False negatives"
   ]
  },
  {
   "cell_type": "code",
   "execution_count": 13,
   "metadata": {},
   "outputs": [
    {
     "name": "stdout",
     "output_type": "stream",
     "text": [
      "True positive rate 0.79\n",
      "False negative rate 0.21\n",
      "True negative rate 1.0\n",
      "False positive rate 0.0\n"
     ]
    },
    {
     "name": "stderr",
     "output_type": "stream",
     "text": [
      "/tmp/ipykernel_26503/1387378632.py:22: DeprecationWarning: The truth value of an empty array is ambiguous. Returning False, but in future this will result in an error. Use `array.size > 0` to check that an array is not empty.\n",
      "  if discriminator.output[0] > 0.5:\n",
      "/tmp/ipykernel_26503/1387378632.py:45: DeprecationWarning: The truth value of an empty array is ambiguous. Returning False, but in future this will result in an error. Use `array.size > 0` to check that an array is not empty.\n",
      "  if discriminator.output[0] <= 0.5:\n"
     ]
    }
   ],
   "source": [
    "dataHandlerTest = datahandler.DataHandler(x_test, y_test, batch_size=1)\n",
    "\n",
    "dataHandlerTest.reset()\n",
    "k=0\n",
    "false_negatives = 0\n",
    "false_positives = 0\n",
    "while dataHandlerTest.hasNext():\n",
    "    # print(f'{k}/{test_size}')\n",
    "    #####################################################33\n",
    "    # Test discriminator with real data\n",
    "    (batchX, batchY) = dataHandlerTest.nextBatch()\n",
    "    \n",
    "    # almost always equal to the real batch_size, except for the last batch\n",
    "    batchSizeTrue = len(batchX[0]) \n",
    "    batchY = np.zeros((2, batchSizeTrue))\n",
    "    for i in range(batchSizeTrue):\n",
    "        batchY[1,i] = 1\n",
    "\n",
    "    discriminator(batchX, batchY)\n",
    "    discriminator.forward()\n",
    "    k += 1\n",
    "    if discriminator.output[0] > 0.5:\n",
    "    \n",
    "       false_negatives += 1\n",
    "\n",
    "    #####################################################33\n",
    "    # Test discriminator with fake data\n",
    "    batchY_fake = np.zeros((2, batchSizeTrue))\n",
    "    for i in range(batchSizeTrue):\n",
    "        batchY_fake[0, i] = 1\n",
    "    \n",
    "    \"\"\"\n",
    "    pass the batch of noise along with the label 1 into the generator\n",
    "    \"\"\"\n",
    "    generator(get_noise(0, 1, inDimension, batchSizeTrue), batchY_fake)\n",
    "\n",
    "    generator.forward()\n",
    "\n",
    "    # take the generator's output and shuffle it with the actual ones\n",
    "    batchX_fake = generator.output\n",
    "\n",
    "    discriminator(batchX_fake, batchY_fake)\n",
    "    discriminator.forward()\n",
    "\n",
    "    if discriminator.output[0] <= 0.5:\n",
    "    \n",
    "       false_positives += 1\n",
    "    \n",
    "\n",
    "false_negative_rate = false_negatives/test_size\n",
    "print(f'True positive rate {1-false_negative_rate}')\n",
    "print(f'False negative rate {false_negative_rate}')\n",
    "    \n",
    "false_positive_rate = false_positives/test_size\n",
    "print(f'True negative rate {1-false_positive_rate}')\n",
    "print(f'False positive rate {false_positive_rate}')\n"
   ]
  },
  {
   "cell_type": "markdown",
   "metadata": {},
   "source": []
  },
  {
   "cell_type": "code",
   "execution_count": null,
   "metadata": {},
   "outputs": [],
   "source": []
  },
  {
   "cell_type": "markdown",
   "metadata": {},
   "source": []
  }
 ],
 "metadata": {
  "kernelspec": {
   "display_name": "tenv",
   "language": "python",
   "name": "python3"
  },
  "language_info": {
   "codemirror_mode": {
    "name": "ipython",
    "version": 3
   },
   "file_extension": ".py",
   "mimetype": "text/x-python",
   "name": "python",
   "nbconvert_exporter": "python",
   "pygments_lexer": "ipython3",
   "version": "3.12.3"
  }
 },
 "nbformat": 4,
 "nbformat_minor": 2
}
