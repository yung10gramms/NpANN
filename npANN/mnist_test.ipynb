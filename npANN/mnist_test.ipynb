{
 "cells": [
  {
   "cell_type": "code",
   "execution_count": 1,
   "metadata": {},
   "outputs": [
    {
     "name": "stderr",
     "output_type": "stream",
     "text": [
      "2025-01-09 12:50:03.590222: I external/local_xla/xla/tsl/cuda/cudart_stub.cc:32] Could not find cuda drivers on your machine, GPU will not be used.\n",
      "2025-01-09 12:50:03.595298: I external/local_xla/xla/tsl/cuda/cudart_stub.cc:32] Could not find cuda drivers on your machine, GPU will not be used.\n",
      "2025-01-09 12:50:03.611121: E external/local_xla/xla/stream_executor/cuda/cuda_fft.cc:477] Unable to register cuFFT factory: Attempting to register factory for plugin cuFFT when one has already been registered\n",
      "WARNING: All log messages before absl::InitializeLog() is called are written to STDERR\n",
      "E0000 00:00:1736419803.633255   11672 cuda_dnn.cc:8310] Unable to register cuDNN factory: Attempting to register factory for plugin cuDNN when one has already been registered\n",
      "E0000 00:00:1736419803.639063   11672 cuda_blas.cc:1418] Unable to register cuBLAS factory: Attempting to register factory for plugin cuBLAS when one has already been registered\n",
      "2025-01-09 12:50:03.661201: I tensorflow/core/platform/cpu_feature_guard.cc:210] This TensorFlow binary is optimized to use available CPU instructions in performance-critical operations.\n",
      "To enable the following instructions: AVX2 FMA, in other operations, rebuild TensorFlow with the appropriate compiler flags.\n"
     ]
    }
   ],
   "source": [
    "from keras.datasets import mnist\n",
    "\n",
    "import numpy as np\n",
    "\n",
    "import module\n",
    "import optimizer \n",
    "import loss \n",
    "import datahandler\n",
    "\n",
    "from matplotlib import pyplot as plt\n",
    "import numpy as np\n",
    "from numpy import shape\n",
    "\n",
    "from tqdm import tqdm\n"
   ]
  },
  {
   "cell_type": "code",
   "execution_count": 2,
   "metadata": {},
   "outputs": [],
   "source": [
    "\n",
    "def prepocess_data(x_train, y_train, x_test, y_test, training_size, test_size):\n",
    "    x_train = x_train.reshape(x_train.shape[0], 28 * 28, 1)\n",
    "    x_test = x_test.reshape(x_test.shape[0], 28 * 28, 1)\n",
    "\n",
    "    x_train = x_train.T\n",
    "    x_test = x_test.T\n",
    "\n",
    "    x_train = x_train[:, :, 0:training_size]\n",
    "    x_test = x_test[:, :, 0:test_size]\n",
    "\n",
    "    x_train = x_train[0, :, 0:training_size]\n",
    "    x_test = x_test[0, :, 0:test_size]\n",
    "\n",
    "    y_test = y_test[:test_size]\n",
    "    y_train = y_train[:training_size]\n",
    "   \n",
    "    \n",
    "    y_tr = np.zeros((10, training_size))\n",
    "    y_ts = np.zeros((10, test_size))\n",
    "    \n",
    "    y_tr[0, :] = y_train\n",
    "    y_ts[0, :] = y_test\n",
    "\n",
    "    y_test = y_ts\n",
    "    y_train = y_tr\n",
    "    for i in range(training_size):\n",
    "        n_tmp = int(y_train[0, i])\n",
    "\n",
    "        \n",
    "        y_train[:, i] = np.zeros(10)\n",
    "        y_train[n_tmp, i] = 1\n",
    "    print(y_train)\n",
    "\n",
    "    for i in range(test_size):\n",
    "        n_tmp = int(y_test[0, i])\n",
    "\n",
    "        y_test[:, i] = np.zeros(10)\n",
    "        y_test[n_tmp, i] = 1\n",
    "    \n",
    "\n",
    "\n",
    "    x_test, y_test = reshuffle(x_test, y_test)\n",
    "    x_train, y_train = reshuffle(x_train, y_train)\n",
    "\n",
    "    return (x_train, y_train, x_test, y_test)\n",
    "\n",
    "\n",
    "def reshuffle(X, Y):\n",
    "    NData = len(X[0, :])\n",
    "    perm_indices = np.arange(NData)\n",
    "    np.random.shuffle(perm_indices)\n",
    "    X = X[:, perm_indices]\n",
    "    Y = Y[:, perm_indices]\n",
    "    return X, Y\n",
    "\n",
    "def flatten_input(x):\n",
    "    x = x.reshape(x.shape[0], 28 * 28, 1)\n",
    "    \"\"\"\n",
    "    TODO figure this out\n",
    "    \"\"\"\n",
    "\n",
    "    x = x.astype(\"float32\") / 255\n",
    "    return x\n",
    "\n"
   ]
  },
  {
   "cell_type": "code",
   "execution_count": 3,
   "metadata": {},
   "outputs": [
    {
     "name": "stdout",
     "output_type": "stream",
     "text": [
      "[[0. 1. 0. ... 0. 0. 1.]\n",
      " [0. 0. 0. ... 0. 0. 0.]\n",
      " [0. 0. 0. ... 0. 1. 0.]\n",
      " ...\n",
      " [0. 0. 0. ... 0. 0. 0.]\n",
      " [0. 0. 0. ... 0. 0. 0.]\n",
      " [0. 0. 0. ... 0. 0. 0.]]\n",
      "(784, 100)\n",
      "(784, 2000)\n",
      "(10, 100)\n",
      "(10, 2000)\n"
     ]
    }
   ],
   "source": [
    "\n",
    "# load MNIST using Keras\n",
    "# Select 2000 training samples and 100 test samples and appropriate preprocess them\n",
    "training_size = 2000\n",
    "test_size = 100\n",
    "(x_train, y_train), (x_test, y_test) = mnist.load_data()\n",
    "\n",
    "inDimension = 28*28\n",
    "\n",
    "(x_train, y_train, x_test, y_test) = prepocess_data(x_train, y_train, x_test, y_test, training_size, test_size)\n",
    "\n",
    "print(np.shape(x_test))\n",
    "print(np.shape(x_train))\n",
    "print(np.shape(y_test))\n",
    "print(np.shape(y_train))\n"
   ]
  },
  {
   "cell_type": "code",
   "execution_count": 4,
   "metadata": {},
   "outputs": [
    {
     "name": "stdout",
     "output_type": "stream",
     "text": [
      "Number of Layers: 3\n",
      "Total Parameters: 79510 (79400 weights and 110 biases)\n",
      "Size on RAM (approximate) 621.17 Kb\n",
      "(784 None) x (100 relu) x (10 softmax)\n",
      "Weight dimensions: (100, 784), (10, 100)\n",
      "Warning: dynamic step option will ignore learning rate\n"
     ]
    },
    {
     "name": "stderr",
     "output_type": "stream",
     "text": [
      "Processing:: 100%|██████████| 20/20 [00:13<00:00,  1.43it/s]\n"
     ]
    }
   ],
   "source": [
    "\n",
    "nn = module.Module()\n",
    "\n",
    "nn.appendLayer(inDimension)\n",
    "\n",
    "for i in range(1):\n",
    "    nn.appendLayer(100)\n",
    "\n",
    "nn.appendLayer(10, activation='softmax')\n",
    "nn.printShape()\n",
    "\n",
    "nn.setLossFunction(loss.CrossEntropyLoss)\n",
    "\n",
    "\n",
    "opt = optimizer.SGD(nn, learning_rate=0.1, dynamic_step=True, weight_normalization=True)\n",
    "\n",
    "loss_vector_sgd = []\n",
    "\n",
    "wnorm_sgd = []\n",
    "\n",
    "batch_size = 50\n",
    "dataHandler = datahandler.DataHandler(x_train, y_train, batch_size=batch_size)\n",
    "\n",
    "no_epochs = 20\n",
    "for j in tqdm(range(no_epochs), desc=f\"Processing:\"):\n",
    "    \n",
    "    dataHandler.reset()\n",
    "    epoch_loss = []\n",
    "    while dataHandler.hasNext():\n",
    "        (batchX, batchY) = dataHandler.nextBatch()\n",
    "        \n",
    "        nn(batchX, batchY)\n",
    "        nn.forward()\n",
    "\n",
    "        nn.calc_loss()\n",
    "\n",
    "        epoch_loss.append(nn.loss)\n",
    "        \n",
    "        wnorm_sgd.append(sum(np.linalg.norm(w) for w in nn.weights))\n",
    "        nn.backward()\n",
    "\n",
    "        opt.step()\n",
    "\n",
    "    loss_vector_sgd.append(np.average(epoch_loss))"
   ]
  },
  {
   "cell_type": "markdown",
   "metadata": {},
   "source": [
    "## print training plots"
   ]
  },
  {
   "cell_type": "code",
   "execution_count": 5,
   "metadata": {},
   "outputs": [
    {
     "data": {
      "image/png": "[encoded data removed]",
      "text/plain": [
       "<Figure size 640x480 with 1 Axes>"
      ]
     },
     "metadata": {},
     "output_type": "display_data"
    }
   ],
   "source": [
    "\n",
    "from matplotlib import pyplot as plt\n",
    "if no_epochs < 2:\n",
    "    plt.semilogy(loss_vector_sgd, '^-')\n",
    "    \n",
    "else:\n",
    "    plt.semilogy(loss_vector_sgd, '-')\n",
    "plt.title('Loss Vector (Semilog Scale)')\n",
    "plt.xlabel('Epoch')\n",
    "plt.ylabel('Loss (log scale)')\n",
    "plt.show()"
   ]
  },
  {
   "cell_type": "markdown",
   "metadata": {},
   "source": [
    "# Test for ADAM Optimizer"
   ]
  },
  {
   "cell_type": "code",
   "execution_count": 6,
   "metadata": {},
   "outputs": [
    {
     "name": "stdout",
     "output_type": "stream",
     "text": [
      "Number of Layers: 3\n",
      "Total Parameters: 79510 (79400 weights and 110 biases)\n",
      "Size on RAM (approximate) 621.17 Kb\n",
      "(784 None) x (100 relu) x (10 softmax)\n",
      "Weight dimensions: (100, 784), (10, 100)\n",
      "ADAM initialized\n"
     ]
    },
    {
     "name": "stderr",
     "output_type": "stream",
     "text": [
      "Processing:: 100%|██████████| 20/20 [00:13<00:00,  1.49it/s]\n"
     ]
    }
   ],
   "source": [
    "import optimizer \n",
    "\n",
    "\n",
    "nn = module.Module()\n",
    "\n",
    "nn.appendLayer(inDimension)\n",
    "\n",
    "for i in range(1):\n",
    "    nn.appendLayer(100)\n",
    "\n",
    "nn.appendLayer(10, activation='softmax')\n",
    "nn.printShape()\n",
    "nn.setLossFunction(loss.CrossEntropyLoss)\n",
    "\n",
    "opt = optimizer.ADAM(nn)\n",
    "\n",
    "\n",
    "loss_vector_adam = []\n",
    "wnorm_adam = []\n",
    "\n",
    "dataHandler = datahandler.DataHandler(x_train, y_train, batch_size=batch_size)\n",
    "\n",
    "no_epochs = 20\n",
    "\n",
    "for j in tqdm(range(no_epochs), desc=f\"Processing:\"):\n",
    "    epoch_loss = []\n",
    "    dataHandler.reset()\n",
    "    while dataHandler.hasNext():\n",
    "        (batchX, batchY) = dataHandler.nextBatch()\n",
    "\n",
    "        nn(batchX, batchY)\n",
    "        nn.forward()\n",
    "\n",
    "        nn.calc_loss()\n",
    "\n",
    "        epoch_loss.append(nn.loss)\n",
    "        \n",
    "        wnorm_adam.append(sum(np.linalg.norm(w) for w in nn.weights))\n",
    "        nn.backward()\n",
    "\n",
    "        opt.step()\n",
    "    loss_vector_adam.append(np.average(epoch_loss))"
   ]
  },
  {
   "cell_type": "code",
   "execution_count": 7,
   "metadata": {},
   "outputs": [
    {
     "data": {
      "image/png": "[encoded data removed]",
      "text/plain": [
       "<Figure size 640x480 with 1 Axes>"
      ]
     },
     "metadata": {},
     "output_type": "display_data"
    }
   ],
   "source": [
    "from matplotlib import pyplot as plt\n",
    "\n",
    "plt.semilogy(loss_vector_sgd, '-')\n",
    "plt.semilogy(loss_vector_adam, '-')\n",
    "plt.legend(['SGD dynamic step', 'ADAM'])\n",
    "plt.title('Loss Vector (Semilog Scale)')\n",
    "plt.xlabel('Epoch')\n",
    "plt.ylabel('Loss (log scale)')\n",
    "plt.show()"
   ]
  },
  {
   "cell_type": "markdown",
   "metadata": {},
   "source": [
    "# Test accuracy for trained model"
   ]
  },
  {
   "cell_type": "code",
   "execution_count": null,
   "metadata": {},
   "outputs": [
    {
     "name": "stdout",
     "output_type": "stream",
     "text": [
      "Evaluation accuracy: 87.87878787878788%\n"
     ]
    }
   ],
   "source": [
    "\n",
    "## test\n",
    "dataHandler = datahandler.DataHandler(x_test, y_test, batch_size=1)\n",
    "error_count = 0\n",
    "validation_count = 0\n",
    "while dataHandler.hasNext():\n",
    "    (batchX, batchY) = dataHandler.nextBatch()\n",
    "    \n",
    "    if len(batchX) == 0:\n",
    "        break\n",
    "\n",
    "    nn(batchX, batchY)\n",
    "    nn.forward()\n",
    "    \n",
    "    \n",
    "    try:\n",
    "        output = np.argmax(nn.output)\n",
    "        label = np.argmax(batchY)\n",
    "    except:\n",
    "        # print('nn,output is ', nn.output)\n",
    "        break \n",
    "    \n",
    "    error_count += (output != label).astype(int)\n",
    "    \n",
    "    validation_count += 1\n",
    "    \n",
    "accuracy = (1 - error_count/validation_count)*100\n",
    "print(f'Evaluation accuracy: {accuracy}%')"
   ]
  },
  {
   "cell_type": "markdown",
   "metadata": {},
   "source": []
  },
  {
   "cell_type": "code",
   "execution_count": null,
   "metadata": {},
   "outputs": [],
   "source": []
  }
 ],
 "metadata": {
  "kernelspec": {
   "display_name": "tenv",
   "language": "python",
   "name": "python3"
  },
  "language_info": {
   "codemirror_mode": {
    "name": "ipython",
    "version": 3
   },
   "file_extension": ".py",
   "mimetype": "text/x-python",
   "name": "python",
   "nbconvert_exporter": "python",
   "pygments_lexer": "ipython3",
   "version": "3.12.3"
  }
 },
 "nbformat": 4,
 "nbformat_minor": 2
}
