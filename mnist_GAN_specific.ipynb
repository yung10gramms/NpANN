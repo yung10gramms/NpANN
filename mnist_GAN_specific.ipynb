{
 "cells": [
  {
   "cell_type": "code",
   "execution_count": 4,
   "metadata": {},
   "outputs": [],
   "source": [
    "from keras.datasets import mnist\n",
    "\n",
    "import numpy as np\n",
    "\n",
    "import module\n",
    "import optimizer \n",
    "import loss \n",
    "import datahandler\n",
    "\n",
    "\n",
    "from matplotlib import pyplot as plt\n",
    "import numpy as np\n",
    "from numpy import shape\n",
    "\n",
    "from tqdm import tqdm\n"
   ]
  },
  {
   "cell_type": "code",
   "execution_count": 36,
   "metadata": {},
   "outputs": [],
   "source": [
    "\n",
    "def prepocess_data(x_train, y_train, x_test, y_test, training_size, test_size):\n",
    "    x_train = x_train.reshape(x_train.shape[0], 28 * 28, 1)\n",
    "    x_test = x_test.reshape(x_test.shape[0], 28 * 28, 1)\n",
    "\n",
    "    x_train = x_train.T\n",
    "    x_test = x_test.T\n",
    "\n",
    "    # filter only a specific number\n",
    "    target_num = 7\n",
    "    i = 0\n",
    "    count = 0\n",
    "    indeces_train = [None]*training_size\n",
    "    while count < training_size:\n",
    "        if y_train[i] != target_num:\n",
    "            i += 1\n",
    "            continue\n",
    "        indeces_train[count] = i\n",
    "        i += 1\n",
    "        count += 1\n",
    "\n",
    "    i = 0\n",
    "    count = 0\n",
    "    indeces_test = [None]*test_size\n",
    "    while count < test_size:\n",
    "        if y_train[i] != target_num:\n",
    "            i += 1\n",
    "            continue\n",
    "        indeces_test[count] = i\n",
    "        i += 1\n",
    "        count += 1\n",
    "\n",
    "    x_train = np.array([x_train[:, :, i] for i in indeces_train])\n",
    "    x_test = np.array([x_test[:, :, i] for i in indeces_test])\n",
    "    \n",
    "    print(np.shape(x_train))\n",
    "\n",
    "    # x_train = x_train[0, :, 0:training_size]\n",
    "    # x_test = x_test[0, :, 0:test_size]\n",
    "\n",
    "    x_train = np.squeeze(x_train).T\n",
    "    x_test = np.squeeze(x_test).T\n",
    "\n",
    "    print(np.shape(x_train))\n",
    "\n",
    "\n",
    "    y_test = [y_test[i] for i in indeces_test]\n",
    "    y_train = [y_train[i] for i in indeces_train]\n",
    "   \n",
    "    y_tr = np.zeros((10, training_size))\n",
    "    y_ts = np.zeros((10, test_size))\n",
    "    \n",
    "    y_tr[0, :] = y_train\n",
    "    y_ts[0, :] = y_test\n",
    "\n",
    "    y_test = y_ts\n",
    "    y_train = y_tr\n",
    "    for i in range(training_size):\n",
    "        n_tmp = int(y_train[0, i])\n",
    "\n",
    "        \n",
    "        y_train[:, i] = np.zeros(10)\n",
    "        y_train[n_tmp, i] = 1\n",
    "    print(y_train)\n",
    "\n",
    "    for i in range(test_size):\n",
    "        n_tmp = int(y_test[0, i])\n",
    "\n",
    "        y_test[:, i] = np.zeros(10)\n",
    "        y_test[n_tmp, i] = 1\n",
    "    # print(y_test)\n",
    "\n",
    "\n",
    "    x_test, y_test = reshuffle(x_test, y_test)\n",
    "    x_train, y_train = reshuffle(x_train, y_train)\n",
    "\n",
    "    return (x_train, y_train, x_test, y_test)\n",
    "\n",
    "\n",
    "def reshuffle(X, Y):\n",
    "    NData = len(X[0, :])\n",
    "    perm_indices = np.arange(NData)\n",
    "    np.random.shuffle(perm_indices)\n",
    "    X = X[:, perm_indices]\n",
    "    Y = Y[:, perm_indices]\n",
    "    return X, Y\n",
    "\n",
    "def flatten_input(x):\n",
    "    x = x.reshape(x.shape[0], 28 * 28, 1)\n",
    "    \"\"\"\n",
    "    TODO figure this out\n",
    "    \"\"\"\n",
    "\n",
    "    x = x.astype(\"float32\") / 255\n",
    "    return x\n",
    "\n"
   ]
  },
  {
   "cell_type": "code",
   "execution_count": 37,
   "metadata": {},
   "outputs": [
    {
     "name": "stdout",
     "output_type": "stream",
     "text": [
      "(2000, 1, 784)\n",
      "(784, 2000)\n",
      "[[0. 0. 0. ... 0. 0. 0.]\n",
      " [0. 0. 0. ... 0. 0. 0.]\n",
      " [0. 0. 0. ... 0. 0. 0.]\n",
      " ...\n",
      " [1. 1. 1. ... 1. 1. 1.]\n",
      " [0. 0. 0. ... 0. 0. 0.]\n",
      " [0. 0. 0. ... 0. 0. 0.]]\n",
      "(784, 100)\n",
      "(784, 2000)\n",
      "(10, 100)\n",
      "(10, 2000)\n"
     ]
    }
   ],
   "source": [
    "\n",
    "# load MNIST using Keras\n",
    "# Select 1000 training samples and 20 test samples and appropriate preprocess them\n",
    "training_size = 2000\n",
    "test_size = 100\n",
    "(x_train, y_train), (x_test, y_test) = mnist.load_data()\n",
    "\n",
    "# print(y_train)\n",
    "\n",
    "# x_train = flatten_input(x_train)\n",
    "# x_test = flatten_input(x_test)\n",
    "\n",
    "# x_train = prepocess_data(x_train, y_train, training_size)\n",
    "# x_test = prepocess_data(x_test, y_test, test_size)\n",
    "\n",
    "\n",
    "inDimension = 28*28\n",
    "\n",
    "(x_train, y_train, x_test, y_test) = prepocess_data(x_train, y_train, x_test, y_test, training_size, test_size)\n",
    "\n",
    "print(np.shape(x_test))\n",
    "print(np.shape(x_train))\n",
    "print(np.shape(y_test))\n",
    "print(np.shape(y_train))\n"
   ]
  },
  {
   "cell_type": "code",
   "execution_count": 38,
   "metadata": {},
   "outputs": [],
   "source": [
    "from loss import LossFunction\n",
    "\n",
    "class GenLoss(LossFunction):\n",
    "\n",
    "    def __init__(self):\n",
    "        self.gradOut = None\n",
    "        self.valOut = None \n",
    "\n",
    "    def __call__(self, x, y):\n",
    "        assert self.valOut is not None, 'Error: Value is not initialized'\n",
    "        return self.valOut\n",
    "\n",
    "    def gradient(self, x, y):\n",
    "        assert self.gradOut is not None, 'Error: Gradient is not initialized'\n",
    "        return self.gradOut\n",
    "        "
   ]
  },
  {
   "cell_type": "code",
   "execution_count": 39,
   "metadata": {},
   "outputs": [
    {
     "name": "stdout",
     "output_type": "stream",
     "text": [
      " A = [[1. 1. 1. 1. 1. 1. 1. 1. 1. 1.]\n",
      " [1. 1. 1. 1. 1. 1. 1. 1. 1. 1.]]\n",
      "B=[[0. 0. 0. 0. 0. 0. 0. 0. 0. 0. 0.]\n",
      " [0. 0. 0. 0. 0. 0. 0. 0. 0. 0. 0.]]\n",
      "C=\n",
      "[[1. 1. 1. 0. 1. 1. 1. 0. 1. 0. 1. 1. 0. 1. 0. 0. 0. 0. 0. 0. 0.]\n",
      " [1. 1. 1. 0. 1. 1. 1. 0. 1. 0. 1. 1. 0. 1. 0. 0. 0. 0. 0. 0. 0.]]\n",
      "indices=[0, 1, 7, 19, 9, 5, 8, 13, 3, 18, 4, 6, 20, 2, 10, 16, 12, 11, 14, 17, 15]\n",
      "map = [0, 1, 13, 8, 10, 5, 11, 2, 6, 4, 14, 17, 16, 7, 18, 20, 15, 19, 9, 3, 12]\n"
     ]
    }
   ],
   "source": [
    "import random\n",
    "\n",
    "def randomMerge(A, B, shuffle = True):\n",
    "    '''\n",
    "    given two matrices A and B, merge them and shuffle the new matrix entries\n",
    "\n",
    "    returns \n",
    "    C              :                                       merged array\n",
    "    indices        :          merged indices describing the permutation\n",
    "    idx_map        :  at index i contains the position that i is stored\n",
    "    '''\n",
    "    assert len(A) == len(B), 'A and B must be of same length at dimension 0'\n",
    "    len_a = len(A[0])\n",
    "    len_b = len(B[0])\n",
    "    numData = len_a + len_b\n",
    "    C = np.zeros((len(A), numData))\n",
    "    for i in range(len(A[0])):\n",
    "        C[:, i] = A[:, i]\n",
    "    for i in range(len_a, numData):\n",
    "        C[:, i] = B[:, i-len_a]\n",
    "\n",
    "    indices = list(range(numData))\n",
    "    if not shuffle:\n",
    "        return C, indices, indices\n",
    "\n",
    "    random.shuffle(indices)\n",
    "    C = [C[:, idx] for idx in indices]\n",
    "    C = np.column_stack(C)\n",
    "    \n",
    "    idx_map = [None]*len(indices)\n",
    "    for i, idx in enumerate(indices):\n",
    "        idx_map[idx] = i\n",
    "\n",
    "    return C, indices, idx_map\n",
    "\n",
    "A = np.ones((2, 10))\n",
    "B = np.zeros((2, 11))\n",
    "C, ids, idx_map = randomMerge(A, B)\n",
    "print(f' A = {A}\\nB={B}\\nC=\\n{C}\\nindices={ids}\\nmap = {idx_map}')"
   ]
  },
  {
   "cell_type": "code",
   "execution_count": 45,
   "metadata": {},
   "outputs": [
    {
     "name": "stdout",
     "output_type": "stream",
     "text": [
      "Number of Layers: 3\n",
      "Total Parameters: 1569784 (1568000 weights and 1784 biases)\n",
      "Size on RAM (approximate) 12263.94 kb\n",
      "(784 None) x (1000 relu) x (784 relu)\n",
      "Weight dimensions: (1000, 784), (784, 1000)\n",
      "Warning: dynamic step option will ignore learning rate\n",
      "Number of Layers: 3\n",
      "Total Parameters: 78702 (78600 weights and 102 biases)\n",
      "Size on RAM (approximate) 614.86 kb\n",
      "(784 None) x (100 relu) x (2 softmax)\n",
      "Weight dimensions: (100, 784), (2, 100)\n",
      "Warning: dynamic step option will ignore learning rate\n"
     ]
    },
    {
     "name": "stderr",
     "output_type": "stream",
     "text": [
      "Processing:: 100%|██████████| 5/5 [16:20<00:00, 196.14s/it]\n"
     ]
    }
   ],
   "source": [
    "\n",
    "import module\n",
    "import optimizer \n",
    "import loss \n",
    "import datahandler\n",
    "\n",
    "\n",
    "#\n",
    "#  generator ====================================================================\n",
    "generator = module.Module()\n",
    "generator.appendLayer(inDimension)\n",
    "\n",
    "for i in range(1):\n",
    "    generator.appendLayer(1000)\n",
    "\n",
    "generator.appendLayer(inDimension)\n",
    "\n",
    "generator.printShape()\n",
    "\n",
    "# nn.setLossFunction(loss.L2Loss)\n",
    "generator.setLossFunction(GenLoss)\n",
    "\n",
    "\n",
    "# opt = optimizer.SGD(nn, learning_rate=0.1, dynamic_step=True)\n",
    "gen_opt = optimizer.SGD(generator, learning_rate=0.1, dynamic_step=True, weight_normalization=True)\n",
    "\n",
    "# dicriminator =================================================================\n",
    "\n",
    "discriminator = module.Module()\n",
    "discriminator.appendLayer(inDimension)\n",
    "\n",
    "for i in range(1):\n",
    "    discriminator.appendLayer(100)\n",
    "\n",
    "discriminator.appendLayer(2, activation='softmax')\n",
    "discriminator.printShape()\n",
    "discriminator.setLossFunction(loss.CrossEntropyLoss)\n",
    "\n",
    "\n",
    "dis_opt = optimizer.SGD(discriminator, learning_rate=0.1, dynamic_step=True, weight_normalization=True)\n",
    "\n",
    "\n",
    "# opt = optimizer.SGD(nn, learning_rate=0.1)\n",
    "\n",
    "loss_vector_sgd_gen = []\n",
    "loss_vector_sgd_dis = []\n",
    "\n",
    "wnorm_sgd = []\n",
    "\n",
    "# N = 100\n",
    "batch_size = 50\n",
    "dataHandler = datahandler.DataHandler(x_train, y_train, batch_size=batch_size)\n",
    "\n",
    "\n",
    "get_noise = lambda mu, sigma, dimension, N : np.random.randn(dimension, N)*sigma + mu\n",
    "\n",
    "\n",
    "# no_epochs = 10\n",
    "no_epochs = 5\n",
    "for j in tqdm(range(no_epochs), desc=f\"Processing:\"):\n",
    "    \n",
    "    dataHandler.reset()\n",
    "    epoch_loss_gen = []\n",
    "    epoch_loss_dis = []\n",
    "    while dataHandler.hasNext():\n",
    "        \n",
    "        ################# take next batch from train set\n",
    "        \n",
    "        (batchX, batchY) = dataHandler.nextBatch()\n",
    "        \n",
    "        # almost always equal to the real batch_size, except for the last batch\n",
    "        batchSizeTrue = len(batchX[0]) \n",
    "        batchY = np.zeros((2, batchSizeTrue))\n",
    "        for i in range(batchSizeTrue):\n",
    "            batchY[1,i] = 1\n",
    "        # print(np.shape(batchY))\n",
    "\n",
    "        batchY_fake = np.zeros((2, batchSizeTrue))\n",
    "        for i in range(batchSizeTrue):\n",
    "            batchY_fake[0, i] = 1\n",
    "        \n",
    "        \"\"\"\n",
    "        pass the batch of noise along with the label 1 into the generator\n",
    "        \"\"\"\n",
    "        generator(get_noise(0, 1, inDimension, batchSizeTrue), batchY_fake)\n",
    "\n",
    "        generator.forward()\n",
    "\n",
    "        # take the generator's output and shuffle it with the actual ones\n",
    "        batchX_fake = generator.output\n",
    "        mixedBatchX, mixed_idcs, idx_map = randomMerge(batchX, batchX_fake, shuffle = True)\n",
    "        mixedBatchX = np.array(mixedBatchX)\n",
    "        # print(f'mixed batch X {np.shape(mixedBatchX)}')\n",
    "\n",
    "        # having kept the permutation indices, merge the labels accordingly\n",
    "        mixedBatchY, _, _ = randomMerge(batchY, batchY_fake, shuffle = False)\n",
    "        mixedBatchY = np.array([mixedBatchY[:, idx] for idx in mixed_idcs]).T\n",
    "        # print(f'mixed batch Y {np.shape(mixedBatchY)}')\n",
    "\n",
    "        # time to pass the augmented batch into the discriminator\n",
    "        discriminator(mixedBatchX, mixedBatchY)\n",
    "        discriminator.forward()\n",
    "\n",
    "        # print(f'output of discriminator {np.shape(discriminator.output)}')\n",
    "        # pray for the best\n",
    "        discriminator.calc_loss()\n",
    "        discriminator.backward()\n",
    "        dis_opt.step()\n",
    "\n",
    "        ########################### backpropagate generator but only wrt to their respective output\n",
    "        discr_output_fake = np.array([discriminator.output[:, idx_map[ii]] for ii in range(batchSizeTrue)])\n",
    "        discr_loss_fake = np.array([discriminator.loss_function(discriminator.output[:, jj], discriminator.yhat[:, jj]) for jj in range(batchSizeTrue)])\n",
    "        # assuming that number of real data = number of fake data\n",
    "        discr_loss_real = np.array([discriminator.loss_function(discriminator.output[:, jj], discriminator.yhat[:, jj]) for jj in range(batchSizeTrue, 2*batchSizeTrue, 1)])\n",
    "        \n",
    "        # discr_loss_fake = np.array([discriminator.loss[idx_map[i]] for i in range(batchSizeTrue)])\n",
    "        \n",
    "        # print(f'shape of W^0 {np.shape(discriminator.propagated_gradients[0])}')\n",
    "        discr_grads_fake = np.array([discriminator.propagated_gradients[0][ :, idx_map[i]] for i in range(batchSizeTrue)])\n",
    "\n",
    "        \n",
    "        generator.loss_instance.valOut = -discr_loss_fake.T - discr_loss_real.T\n",
    "        generator.loss_instance.gradOut = -discr_grads_fake.T\n",
    "        \n",
    "        # print(f'gen loss {np.shape(generator.loss_instance.valOut)}')\n",
    "\n",
    "        generator.backward()\n",
    "        gen_opt.step()\n",
    "\n",
    "        \n",
    "\n",
    "        epoch_loss_gen.append(np.average(generator.loss))\n",
    "        epoch_loss_dis.append(np.average(discriminator.loss))\n",
    "        \n",
    "    # print(f'epoch loss {np.shape(np.array(epoch_loss_gen))}')\n",
    "    # print(f'and the avg is {np.shape(np.average(np.array(epoch_loss_gen)))}')\n",
    "    loss_vector_sgd_gen.append(np.average(epoch_loss_gen))\n",
    "    loss_vector_sgd_dis.append(np.average(epoch_loss_dis))"
   ]
  },
  {
   "cell_type": "markdown",
   "metadata": {},
   "source": [
    "## print training plots"
   ]
  },
  {
   "cell_type": "code",
   "execution_count": 46,
   "metadata": {},
   "outputs": [
    {
     "data": {
      "image/png": "[encoded data removed]",
      "text/plain": [
       "<Figure size 640x480 with 1 Axes>"
      ]
     },
     "metadata": {},
     "output_type": "display_data"
    }
   ],
   "source": [
    "\n",
    "from matplotlib import pyplot as plt\n",
    "\n",
    "# plt.plot(loss_vector_sgd_gen, '-')\n",
    "plt.semilogy(loss_vector_sgd_dis, '-')\n",
    "plt.title('Loss Vector (Semilog Scale)')\n",
    "plt.xlabel('Epoch')\n",
    "plt.ylabel('Loss (log scale)')\n",
    "plt.show()"
   ]
  },
  {
   "cell_type": "code",
   "execution_count": 47,
   "metadata": {},
   "outputs": [
    {
     "data": {
      "text/plain": [
       "<matplotlib.image.AxesImage at 0x720cbcc9cb20>"
      ]
     },
     "execution_count": 47,
     "metadata": {},
     "output_type": "execute_result"
    },
    {
     "data": {
      "image/png": "[encoded data removed]",
      "text/plain": [
       "<Figure size 640x480 with 1 Axes>"
      ]
     },
     "metadata": {},
     "output_type": "display_data"
    }
   ],
   "source": [
    "first_image = np.array(generator.output[:,0], dtype='float')\n",
    "pixels = first_image.reshape((28, 28))\n",
    "plt.imshow(pixels, cmap='gray')"
   ]
  },
  {
   "cell_type": "code",
   "execution_count": 48,
   "metadata": {},
   "outputs": [
    {
     "data": {
      "text/plain": [
       "<matplotlib.image.AxesImage at 0x720cbccae890>"
      ]
     },
     "execution_count": 48,
     "metadata": {},
     "output_type": "execute_result"
    },
    {
     "data": {
      "image/png": "[encoded data removed]",
      "text/plain": [
       "<Figure size 640x480 with 1 Axes>"
      ]
     },
     "metadata": {},
     "output_type": "display_data"
    }
   ],
   "source": [
    "first_image = np.array(x_train[:, 0], dtype='float')\n",
    "pixels = first_image.reshape((28, 28))\n",
    "plt.imshow(pixels, cmap='gray')"
   ]
  },
  {
   "cell_type": "markdown",
   "metadata": {},
   "source": []
  }
 ],
 "metadata": {
  "kernelspec": {
   "display_name": "Python 3",
   "language": "python",
   "name": "python3"
  },
  "language_info": {
   "codemirror_mode": {
    "name": "ipython",
    "version": 3
   },
   "file_extension": ".py",
   "mimetype": "text/x-python",
   "name": "python",
   "nbconvert_exporter": "python",
   "pygments_lexer": "ipython3",
   "version": "3.10.12"
  }
 },
 "nbformat": 4,
 "nbformat_minor": 2
}
